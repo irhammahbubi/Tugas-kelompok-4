{
  "cells": [
    {
      "cell_type": "markdown",
      "metadata": {
        "id": "-IycjpxksDw7"
      },
      "source": [
        "# TUGAS\n",
        "## Pengenalan Array dengan Numpy\n",
        "\n",
        "Kelompok 4\n",
        "1. Ircham Machbubi Sholih\n",
        "2. Andhika Rivai\n",
        "3. Ahmad Raffi Alhadipuro\n",
        "4. Achmad Bimo Mulyo\n",
        "5. Muhammad Rizky Baidlowi\n",
        "\n",
        "\n"
      ]
    },
    {
      "cell_type": "code",
      "execution_count": 3,
      "metadata": {
        "scrolled": true,
        "id": "teOSNgkisDxD",
        "colab": {
          "base_uri": "https://localhost:8080/"
        },
        "outputId": "0b30cb96-2060-4ef7-cc55-6488c60f8ce8"
      },
      "outputs": [
        {
          "output_type": "stream",
          "name": "stdout",
          "text": [
            "Matriks (arr):\n",
            "[1, 2, 3]\n",
            "[5, 6, 7]\n",
            "Bentuk (shape) matriks: 2x3\n",
            "Tipe data matriks: <class 'int'>\n"
          ]
        }
      ],
      "source": [
        "# Buat matriks (arr) dengan tipe data integer 64\n",
        "arr = [[1, 2, 3],\n",
        "       [5, 6, 7]]\n",
        "\n",
        "# Cetak matriks\n",
        "print(\"Matriks (arr):\")\n",
        "for row in arr:\n",
        "    print(row)\n",
        "\n",
        "# Cetak bentuk (shape) matriks\n",
        "num_rows = len(arr)\n",
        "num_cols = len(arr[0])\n",
        "print(\"Bentuk (shape) matriks: {}x{}\".format(num_rows, num_cols))\n",
        "\n",
        "# Cetak tipe data matriks\n",
        "data_type = type(arr[0][0])\n",
        "print(\"Tipe data matriks: {}\".format(data_type))\n"
      ]
    },
    {
      "cell_type": "code",
      "source": [
        "import numpy as np\n",
        "\n",
        "# Buat matriks (arr_rdm) dengan NumPy dengan nilai acak\n",
        "arr_rdm = np.random.randint(0, 100, size=(2, 3), dtype=np.int64)\n",
        "\n",
        "# Cetak matriks\n",
        "print(\"Matriks (arr_rdm):\\n\", arr_rdm)\n",
        "\n",
        "# Cetak bentuk (shape) matriks\n",
        "print(\"Bentuk (shape) matriks:\", arr_rdm.shape)\n",
        "\n",
        "# Cetak tipe data matriks\n",
        "print(\"Tipe data matriks:\", arr_rdm.dtype)\n"
      ],
      "metadata": {
        "id": "XQu2qotARqrU",
        "colab": {
          "base_uri": "https://localhost:8080/"
        },
        "outputId": "b70d2da7-3d58-4d66-a46f-bef84007dc1b"
      },
      "execution_count": 4,
      "outputs": [
        {
          "output_type": "stream",
          "name": "stdout",
          "text": [
            "Matriks (arr_rdm):\n",
            " [[ 9 36 23]\n",
            " [17 64 92]]\n",
            "Bentuk (shape) matriks: (2, 3)\n",
            "Tipe data matriks: int64\n"
          ]
        }
      ]
    },
    {
      "cell_type": "markdown",
      "source": [
        "# Aritmatika Dasar dengan Numpy"
      ],
      "metadata": {
        "id": "ibSu8dw4TCE9"
      }
    },
    {
      "cell_type": "code",
      "source": [
        "import numpy as np\n",
        "\n",
        "# Membuat matriks arr\n",
        "arr = np.array([[1, 2, 3], [5, 6, 7]], dtype=np.int64)\n",
        "\n",
        "# Membuat matriks arr_rdm\n",
        "arr_rdm = np.random.randint(0, 100, size=(2, 3), dtype=np.int64)\n",
        "\n",
        "# Penjumlahan arr dan arr_rdm\n",
        "addition_result = arr + arr_rdm\n",
        "print(\"Penjumlahan arr dan arr_rdm:\\n\", addition_result)\n",
        "\n",
        "# Pengurangan arr dan arr_rdm\n",
        "subtraction_result = arr - arr_rdm\n",
        "print(\"Pengurangan arr dan arr_rdm:\\n\", subtraction_result)\n",
        "\n",
        "# Perpangkatan dua elemen-elemen arr_rdm\n",
        "power_result = arr_rdm ** 2\n",
        "print(\"Perpangkatan dua elemen arr_rdm:\\n\", power_result)\n",
        "\n",
        "# Perkalian elemen-wise arr dan arr_rdm\n",
        "elementwise_mult_result = arr * arr_rdm\n",
        "print(\"Perkalian elemen-wise arr dan arr_rdm:\\n\", elementwise_mult_result)\n",
        "\n",
        "# Transpose matriks arr_rdm\n",
        "arr_rdm_transpose = np.transpose(arr_rdm)\n",
        "print(\"Transpose matriks arr_rdm:\\n\", arr_rdm_transpose)\n",
        "\n",
        "# Operasi perkalian matriks arr dan arr_rdm\n",
        "matrix_mult_result = np.dot(arr, arr_rdm_transpose)\n",
        "print(\"Perkalian matriks arr dan arr_rdm:\\n\", matrix_mult_result)\n"
      ],
      "metadata": {
        "id": "2gFgxZ6BSlr-",
        "colab": {
          "base_uri": "https://localhost:8080/"
        },
        "outputId": "30990d0f-b73c-4f41-e1b5-17eff5db4bf0"
      },
      "execution_count": 5,
      "outputs": [
        {
          "output_type": "stream",
          "name": "stdout",
          "text": [
            "Penjumlahan arr dan arr_rdm:\n",
            " [[35 16 45]\n",
            " [86 13 49]]\n",
            "Pengurangan arr dan arr_rdm:\n",
            " [[-33 -12 -39]\n",
            " [-76  -1 -35]]\n",
            "Perpangkatan dua elemen arr_rdm:\n",
            " [[1156  196 1764]\n",
            " [6561   49 1764]]\n",
            "Perkalian elemen-wise arr dan arr_rdm:\n",
            " [[ 34  28 126]\n",
            " [405  42 294]]\n",
            "Transpose matriks arr_rdm:\n",
            " [[34 81]\n",
            " [14  7]\n",
            " [42 42]]\n",
            "Perkalian matriks arr dan arr_rdm:\n",
            " [[188 221]\n",
            " [548 741]]\n"
          ]
        }
      ]
    },
    {
      "cell_type": "code",
      "source": [
        "import numpy as np\n",
        "\n",
        "# Membuat matriks arr\n",
        "arr = np.array([[1, 2, 3], [5, 6, 7]], dtype=np.int64)\n",
        "\n",
        "# Mencetak nilai rata-rata arr\n",
        "average_arr = np.mean(arr)\n",
        "print(\"Nilai rata-rata arr: \", average_arr)\n",
        "\n",
        "# Mencetak nilai rata-rata per baris arr\n",
        "average_per_row = np.mean(arr, axis=1)\n",
        "print(\"Nilai rata-rata per baris arr: \", average_per_row)\n",
        "\n",
        "# Mencetak total nilai seluruh elemen matriks arr\n",
        "total_sum = np.sum(arr)\n",
        "print(\"Total nilai seluruh elemen matriks arr: \", total_sum)\n",
        "\n",
        "# Mencetak nilai maksimal per kolom matriks arr\n",
        "max_per_column = np.max(arr, axis=0)\n",
        "print(\"Nilai maksimal per kolom matriks arr: \", max_per_column)\n"
      ],
      "metadata": {
        "id": "QK1uxmhmT7tj",
        "colab": {
          "base_uri": "https://localhost:8080/"
        },
        "outputId": "7956e36c-e495-42de-a2f6-7ca79834e69f"
      },
      "execution_count": 6,
      "outputs": [
        {
          "output_type": "stream",
          "name": "stdout",
          "text": [
            "Nilai rata-rata arr:  4.0\n",
            "Nilai rata-rata per baris arr:  [2. 6.]\n",
            "Total nilai seluruh elemen matriks arr:  24\n",
            "Nilai maksimal per kolom matriks arr:  [5 6 7]\n"
          ]
        }
      ]
    },
    {
      "cell_type": "markdown",
      "source": [
        "# Fitur pada Numpy"
      ],
      "metadata": {
        "id": "kHgUabu9V2AJ"
      }
    },
    {
      "cell_type": "code",
      "source": [
        "import numpy as np\n",
        "\n",
        "# Membuat array arrg dengan nilai rentang 1 hingga 20\n",
        "arrg = np.arange(1, 21)\n",
        "\n",
        "# Mencetak array arrg\n",
        "print(\"Array arrg:\", arrg)\n",
        "\n",
        "# Mencetak nilai arrg pada indeks 5\n",
        "index_5 = arrg[5]\n",
        "print(\"Nilai arrg pada indeks 5:\", index_5)\n",
        "\n",
        "# Mencetak nilai arrg untuk 3 elemen dari terakhir\n",
        "last_3_elements = arrg[-3:]\n",
        "print(\"Nilai arrg untuk 3 elemen dari terakhir:\", last_3_elements)\n",
        "\n",
        "# Mencetak nilai arrg dari indeks 3 hingga 6 (indeks 3, 4, 5, 6)\n",
        "range_3_to_6 = arrg[3:7]\n",
        "print(\"Nilai arrg dari indeks 3 hingga 6:\", range_3_to_6)\n"
      ],
      "metadata": {
        "id": "HxVt2zc1UdJD",
        "colab": {
          "base_uri": "https://localhost:8080/"
        },
        "outputId": "52783a1c-af26-4918-c9c5-d764b7fb3700"
      },
      "execution_count": 7,
      "outputs": [
        {
          "output_type": "stream",
          "name": "stdout",
          "text": [
            "Array arrg: [ 1  2  3  4  5  6  7  8  9 10 11 12 13 14 15 16 17 18 19 20]\n",
            "Nilai arrg pada indeks 5: 6\n",
            "Nilai arrg untuk 3 elemen dari terakhir: [18 19 20]\n",
            "Nilai arrg dari indeks 3 hingga 6: [4 5 6 7]\n"
          ]
        }
      ]
    },
    {
      "cell_type": "code",
      "source": [
        "import numpy as np\n",
        "\n",
        "# Membuat matriks arr\n",
        "arr = np.array([[1, 2, 3], [5, 6, 7]], dtype=np.int64)\n",
        "\n",
        "# Mencetak matriks arr\n",
        "print(\"Matriks arr:\\n\", arr)\n",
        "\n",
        "# Mengambil slice matriks arr dengan output [[2 3] [6 7]]\n",
        "slice1 = arr[:, 1:]\n",
        "print(\"Slice matriks arr dengan output:\\n\", slice1)\n",
        "\n",
        "# Mengambil slice matriks arr dengan output [[3] [7]]\n",
        "slice2 = arr[:, 2:3]\n",
        "print(\"Slice matriks arr dengan output:\\n\", slice2)\n"
      ],
      "metadata": {
        "id": "2mIKvlUyVR00",
        "colab": {
          "base_uri": "https://localhost:8080/"
        },
        "outputId": "606fae3a-08d3-4b96-cfeb-29a3e51e22d5"
      },
      "execution_count": 8,
      "outputs": [
        {
          "output_type": "stream",
          "name": "stdout",
          "text": [
            "Matriks arr:\n",
            " [[1 2 3]\n",
            " [5 6 7]]\n",
            "Slice matriks arr dengan output:\n",
            " [[2 3]\n",
            " [6 7]]\n",
            "Slice matriks arr dengan output:\n",
            " [[3]\n",
            " [7]]\n"
          ]
        }
      ]
    },
    {
      "cell_type": "code",
      "source": [
        "import numpy as np\n",
        "\n",
        "# Membuat matriks mtx_rdm 3x4 dengan nilai acak\n",
        "mtx_rdm = np.random.randint(0, 100, size=(3, 4), dtype=np.int64)\n",
        "\n",
        "# Mencetak bentuk (shape) awal matriks mtx_rdm\n",
        "print(\"Bentuk (shape) awal mtx_rdm:\", mtx_rdm.shape)\n",
        "\n",
        "# Mengubah shape mtx_rdm menjadi satu dimensi\n",
        "mtx_rdm_flat = mtx_rdm.flatten()\n",
        "print(\"Matriks mtx_rdm dalam satu dimensi:\\n\", mtx_rdm_flat)\n",
        "\n",
        "# Mengubah shape mtx_rdm menjadi 6x2\n",
        "mtx_rdm_reshaped = mtx_rdm.reshape(6, 2)\n",
        "print(\"Matriks mtx_rdm dengan bentuk 6x2:\\n\", mtx_rdm_reshaped)\n"
      ],
      "metadata": {
        "id": "tlJfHEnRV57y",
        "colab": {
          "base_uri": "https://localhost:8080/"
        },
        "outputId": "e17af768-7bef-4160-9653-c23f53d94fcf"
      },
      "execution_count": 9,
      "outputs": [
        {
          "output_type": "stream",
          "name": "stdout",
          "text": [
            "Bentuk (shape) awal mtx_rdm: (3, 4)\n",
            "Matriks mtx_rdm dalam satu dimensi:\n",
            " [90 78 49 14 32 62 77 63 74 79 55 80]\n",
            "Matriks mtx_rdm dengan bentuk 6x2:\n",
            " [[90 78]\n",
            " [49 14]\n",
            " [32 62]\n",
            " [77 63]\n",
            " [74 79]\n",
            " [55 80]]\n"
          ]
        }
      ]
    }
  ],
  "metadata": {
    "anaconda-cloud": {},
    "kernelspec": {
      "display_name": "Python [Root]",
      "language": "python",
      "name": "Python [Root]"
    },
    "language_info": {
      "codemirror_mode": {
        "name": "ipython",
        "version": 3
      },
      "file_extension": ".py",
      "mimetype": "text/x-python",
      "name": "python",
      "nbconvert_exporter": "python",
      "pygments_lexer": "ipython3",
      "version": "3.5.2"
    },
    "colab": {
      "provenance": []
    }
  },
  "nbformat": 4,
  "nbformat_minor": 0
}
