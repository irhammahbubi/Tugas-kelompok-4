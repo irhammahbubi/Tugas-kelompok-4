{
  "cells": [
    {
      "cell_type": "markdown",
      "metadata": {
        "id": "-IycjpxksDw7"
      },
      "source": [
        "# TUGAS\n",
        "# Pengenalan Dasar Library Pandas\n",
        "\n",
        "Kelompok 4\n",
        "1. Ircham Machbubi Sholih\n",
        "2. Achmad Bimo Mulyo\n",
        "3. Andhika Rivai\n",
        "4. Ahmad Raffi Alhadipuro\n",
        "5. Muhammad Rizky Baidlowi\n",
        "\n",
        "\n"
      ]
    },
    {
      "cell_type": "code",
      "execution_count": 4,
      "metadata": {
        "scrolled": true,
        "id": "teOSNgkisDxD"
      },
      "outputs": [],
      "source": [
        "import pandas as pd\n"
      ]
    },
    {
      "cell_type": "code",
      "source": [
        "# Membuat array satu dimensi \"df\"\n",
        "df = pd.Series([1, 3, 4, 5])\n",
        "\n",
        "# Membuat dataframe\n",
        "data = {\n",
        "    'Nama': ['Andi', 'Budi', 'Dodo', 'Ema', 'Kari'],\n",
        "    'Nilai': [80, 20, 90, 40, 55],\n",
        "    'Kelas': ['3B', '3A', '3B', '3B', '3A']\n",
        "}\n",
        "df = pd.DataFrame(data)\n",
        "\n",
        "# Print seluruh baris pada kolom \"Nama\"\n",
        "print(df['Nama'])\n",
        "\n",
        "# Sortir data berdasarkan \"Nilai\" tertinggi ke terendah\n",
        "df_sorted = df.sort_values(by='Nilai', ascending=False)\n",
        "print(df_sorted)\n"
      ],
      "metadata": {
        "id": "_XDnf7dDkG3L",
        "colab": {
          "base_uri": "https://localhost:8080/"
        },
        "outputId": "0665bce6-7dfa-40e2-98ac-e4306f9a1403"
      },
      "execution_count": 7,
      "outputs": [
        {
          "output_type": "stream",
          "name": "stdout",
          "text": [
            "0    Andi\n",
            "1    Budi\n",
            "2    Dodo\n",
            "3     Ema\n",
            "4    Kari\n",
            "Name: Nama, dtype: object\n",
            "   Nama  Nilai Kelas\n",
            "2  Dodo     90    3B\n",
            "0  Andi     80    3B\n",
            "4  Kari     55    3A\n",
            "3   Ema     40    3B\n",
            "1  Budi     20    3A\n"
          ]
        }
      ]
    },
    {
      "cell_type": "markdown",
      "source": [
        "# Bermain dengan Real Data\n",
        "1. Download data dari link berikut: https://www.kaggle.com/datasets/ruchi798/data-science-job-salaries/\n",
        "\n",
        "2. Save ds_salaries.csv pada Google Drive\n",
        "\n"
      ],
      "metadata": {
        "id": "cXMO0mO3kKTW"
      }
    },
    {
      "cell_type": "code",
      "source": [
        "import pandas as pd\n",
        "\n",
        "# Memuat data dari file CSV ke dalam dataframe \"df\"\n",
        "df = pd.read_csv('ds_salaries.csv')\n"
      ],
      "metadata": {
        "id": "XQu2qotARqrU"
      },
      "execution_count": 11,
      "outputs": []
    },
    {
      "cell_type": "code",
      "source": [
        "# Mencetak 5 baris teratas\n",
        "print(df.head(5))\n",
        "\n",
        "# Mencetak 5 baris terakhir\n",
        "print(df.tail(5))\n"
      ],
      "metadata": {
        "id": "JMYDfC6j7GL9",
        "colab": {
          "base_uri": "https://localhost:8080/"
        },
        "outputId": "5aaea9f6-6052-4f43-e786-ef4189cc0904"
      },
      "execution_count": 12,
      "outputs": [
        {
          "output_type": "stream",
          "name": "stdout",
          "text": [
            "   Unnamed: 0  work_year experience_level employment_type  \\\n",
            "0           0       2020               MI              FT   \n",
            "1           1       2020               SE              FT   \n",
            "2           2       2020               SE              FT   \n",
            "3           3       2020               MI              FT   \n",
            "4           4       2020               SE              FT   \n",
            "\n",
            "                    job_title  salary salary_currency  salary_in_usd  \\\n",
            "0              Data Scientist   70000             EUR          79833   \n",
            "1  Machine Learning Scientist  260000             USD         260000   \n",
            "2           Big Data Engineer   85000             GBP         109024   \n",
            "3        Product Data Analyst   20000             USD          20000   \n",
            "4   Machine Learning Engineer  150000             USD         150000   \n",
            "\n",
            "  employee_residence  remote_ratio company_location company_size  \n",
            "0                 DE             0               DE            L  \n",
            "1                 JP             0               JP            S  \n",
            "2                 GB            50               GB            M  \n",
            "3                 HN             0               HN            S  \n",
            "4                 US            50               US            L  \n",
            "     Unnamed: 0  work_year experience_level employment_type      job_title  \\\n",
            "602         602       2022               SE              FT  Data Engineer   \n",
            "603         603       2022               SE              FT  Data Engineer   \n",
            "604         604       2022               SE              FT   Data Analyst   \n",
            "605         605       2022               SE              FT   Data Analyst   \n",
            "606         606       2022               MI              FT   AI Scientist   \n",
            "\n",
            "     salary salary_currency  salary_in_usd employee_residence  remote_ratio  \\\n",
            "602  154000             USD         154000                 US           100   \n",
            "603  126000             USD         126000                 US           100   \n",
            "604  129000             USD         129000                 US             0   \n",
            "605  150000             USD         150000                 US           100   \n",
            "606  200000             USD         200000                 IN           100   \n",
            "\n",
            "    company_location company_size  \n",
            "602               US            M  \n",
            "603               US            M  \n",
            "604               US            M  \n",
            "605               US            M  \n",
            "606               US            L  \n"
          ]
        }
      ]
    },
    {
      "cell_type": "code",
      "source": [
        "# Mencetak nama-nama kolom\n",
        "print(df.columns)\n"
      ],
      "metadata": {
        "id": "Y-6-tv-e7lNx",
        "colab": {
          "base_uri": "https://localhost:8080/"
        },
        "outputId": "72a75414-6c49-47a8-bf34-f85157a826fc"
      },
      "execution_count": 13,
      "outputs": [
        {
          "output_type": "stream",
          "name": "stdout",
          "text": [
            "Index(['Unnamed: 0', 'work_year', 'experience_level', 'employment_type',\n",
            "       'job_title', 'salary', 'salary_currency', 'salary_in_usd',\n",
            "       'employee_residence', 'remote_ratio', 'company_location',\n",
            "       'company_size'],\n",
            "      dtype='object')\n"
          ]
        }
      ]
    },
    {
      "cell_type": "code",
      "source": [
        "# Tampilkan data baris ke-5 hingga ke-10 pada kolom job_title\n",
        "print(df.loc[4:9, 'job_title'])\n",
        "\n",
        "# Tampilkan data baris ke-5 hingga ke-10 pada kolom company_location\n",
        "print(df.loc[4:9, 'company_location'])\n"
      ],
      "metadata": {
        "id": "AQ8Q9LszfAaJ",
        "colab": {
          "base_uri": "https://localhost:8080/"
        },
        "outputId": "1b2e5797-1cf5-4564-caae-c248e6095ace"
      },
      "execution_count": 14,
      "outputs": [
        {
          "output_type": "stream",
          "name": "stdout",
          "text": [
            "4    Machine Learning Engineer\n",
            "5                 Data Analyst\n",
            "6          Lead Data Scientist\n",
            "7               Data Scientist\n",
            "8        Business Data Analyst\n",
            "9           Lead Data Engineer\n",
            "Name: job_title, dtype: object\n",
            "4    US\n",
            "5    US\n",
            "6    US\n",
            "7    HU\n",
            "8    US\n",
            "9    NZ\n",
            "Name: company_location, dtype: object\n"
          ]
        }
      ]
    },
    {
      "cell_type": "code",
      "source": [
        "# Hitung rata-rata salary_in_usd\n",
        "rata_rata_salary = df['salary_in_usd'].mean()\n",
        "print(\"Rata-rata Salary (USD):\", rata_rata_salary)\n"
      ],
      "metadata": {
        "id": "gspwHMi6fWrA",
        "colab": {
          "base_uri": "https://localhost:8080/"
        },
        "outputId": "09316f27-2c54-4f13-e3f6-bd0ecf312c52"
      },
      "execution_count": 15,
      "outputs": [
        {
          "output_type": "stream",
          "name": "stdout",
          "text": [
            "Rata-rata Salary (USD): 112297.86985172982\n"
          ]
        }
      ]
    },
    {
      "cell_type": "code",
      "source": [
        "# Simpan data baris ke-5 hingga ke-20 ke dalam file CSV \"sparse.csv\"\n",
        "df_subset = df.iloc[4:20]  # Memilih baris ke-5 hingga ke-20\n",
        "df_subset.to_csv('sparse.csv', index=False)  # Menyimpan ke dalam file CSV tanpa indeks\n"
      ],
      "metadata": {
        "id": "dYsb7C9yfktj"
      },
      "execution_count": 18,
      "outputs": []
    }
  ],
  "metadata": {
    "anaconda-cloud": {},
    "kernelspec": {
      "display_name": "Python [Root]",
      "language": "python",
      "name": "Python [Root]"
    },
    "language_info": {
      "codemirror_mode": {
        "name": "ipython",
        "version": 3
      },
      "file_extension": ".py",
      "mimetype": "text/x-python",
      "name": "python",
      "nbconvert_exporter": "python",
      "pygments_lexer": "ipython3",
      "version": "3.5.2"
    },
    "colab": {
      "provenance": []
    }
  },
  "nbformat": 4,
  "nbformat_minor": 0
}